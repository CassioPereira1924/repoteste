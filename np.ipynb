{
 "cells": [
  {
   "cell_type": "code",
   "execution_count": 1,
   "id": "0e166e34",
   "metadata": {},
   "outputs": [],
   "source": [
    "import numpy as np"
   ]
  },
  {
   "cell_type": "code",
   "execution_count": 4,
   "id": "301e3696",
   "metadata": {},
   "outputs": [
    {
     "data": {
      "text/plain": [
       "[12, 15, 17, 20, 30, 25, 28, 22, 40, 35]"
      ]
     },
     "execution_count": 4,
     "metadata": {},
     "output_type": "execute_result"
    }
   ],
   "source": [
    "lista = [12,15,17,20,30,25,28,22,40,35]\n",
    "lista"
   ]
  },
  {
   "cell_type": "code",
   "execution_count": null,
   "id": "42526600",
   "metadata": {},
   "outputs": [
    {
     "data": {
      "text/plain": [
       "array([12, 15, 17, 20, 22, 25, 28, 30, 35, 40])"
      ]
     },
     "execution_count": 7,
     "metadata": {},
     "output_type": "execute_result"
    }
   ],
   "source": [
    "dados = np.array(lista)\n",
    "dados.sort()\n",
    "dados\n",
    "git remote add origin https://github.com/CassioPereira1924/teste-teste.git\n",
    "git config --global user.name \"Cassio Pereira\"\n",
    "git config --global user.email \"profcassioribeiro@gmail.com\"\n"
   ]
  },
  {
   "cell_type": "code",
   "execution_count": 8,
   "id": "ed2eea89",
   "metadata": {},
   "outputs": [],
   "source": [
    "q1 = np.percentile(dados, 25)\n",
    "q2 = np.percentile(dados, 50)\n",
    "q3 = np.percentile(dados, 75)"
   ]
  },
  {
   "cell_type": "code",
   "execution_count": 10,
   "id": "44096d66",
   "metadata": {},
   "outputs": [
    {
     "name": "stdout",
     "output_type": "stream",
     "text": [
      "Primeiro quartil (Q1): 17.75\n",
      "Segundo quartil (Q1): 23.5\n",
      "Terceiro quartil (Q1): 29.5\n"
     ]
    }
   ],
   "source": [
    "print(f'Primeiro quartil (Q1): {q1}')\n",
    "print(f'Segundo quartil (Q1): {q2}')\n",
    "print(f'Terceiro quartil (Q1): {q3}')"
   ]
  },
  {
   "cell_type": "code",
   "execution_count": 11,
   "id": "4b62b81a",
   "metadata": {},
   "outputs": [
    {
     "data": {
      "text/plain": [
       "array([12, 15, 17, 20, 22, 25, 28, 30, 35, 40])"
      ]
     },
     "execution_count": 11,
     "metadata": {},
     "output_type": "execute_result"
    }
   ],
   "source": [
    "dados"
   ]
  },
  {
   "cell_type": "code",
   "execution_count": null,
   "id": "1a19551b",
   "metadata": {},
   "outputs": [],
   "source": []
  }
 ],
 "metadata": {
  "kernelspec": {
   "display_name": "Python 3",
   "language": "python",
   "name": "python3"
  },
  "language_info": {
   "codemirror_mode": {
    "name": "ipython",
    "version": 3
   },
   "file_extension": ".py",
   "mimetype": "text/x-python",
   "name": "python",
   "nbconvert_exporter": "python",
   "pygments_lexer": "ipython3",
   "version": "3.11.4"
  }
 },
 "nbformat": 4,
 "nbformat_minor": 5
}
